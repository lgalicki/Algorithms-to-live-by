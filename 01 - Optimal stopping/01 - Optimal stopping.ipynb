{
 "cells": [
  {
   "cell_type": "markdown",
   "metadata": {},
   "source": [
    "# The secretary problem\n",
    "\n",
    "Given a set of applicants, we have to select the best one. There's limited time for the task, though, and we must balance a good choice and the time invested in the search. Instead of analysing each applicant, we should check around 37% of them and then get the following one that exceed the best one out of the 37% analised.\n",
    "\n",
    "Here I'll compare the result of such technique against analysing each single applicant."
   ]
  },
  {
   "cell_type": "code",
   "execution_count": 4,
   "metadata": {},
   "outputs": [
    {
     "name": "stdin",
     "output_type": "stream",
     "text": [
      "How many candidates do you want to generate?  15000\n"
     ]
    },
    {
     "name": "stdout",
     "output_type": "stream",
     "text": [
      "The best one selected by the 37% rule is 29997\n"
     ]
    }
   ],
   "source": [
    "from random import sample\n",
    "\n",
    "def optimal_percentage(qt_cand):\n",
    "    '''\n",
    "    Returns the optimal percentage of the sample that should be used for the 37% rule\n",
    "    INPUT: quantity of candidates\n",
    "    OUTPUT: percentage of  the sample\n",
    "    '''\n",
    "    table = {1:100,2:50,3:33.33,4:25,5:40,6:33.33,7:28.57,8:37.5,9:33.33,\n",
    "             10:30,20:35,30:36.67,40:37.5,50:36,100:37,1000:36.9}\n",
    "    \n",
    "    #Higher than 1000? Fixed value.\n",
    "    if int(qt_cand) > 1000:\n",
    "        return 36.9\n",
    "    \n",
    "    #Between 1 and 1000? Looks for where it matches in between the defined values.\n",
    "    keys = list(table.keys())\n",
    "    for key in keys:\n",
    "        if key == qt_cand:\n",
    "            return table[key]\n",
    "        elif key < qt_cand:\n",
    "            prev_key = key\n",
    "            continue\n",
    "        else:\n",
    "            return table[prev_key]\n",
    "\n",
    "    \n",
    "def opt_stop_37(candidates):\n",
    "    '''\n",
    "    Uses the 37% rule to select a possible best candidate.\n",
    "    INPUT: list of candidates\n",
    "    OUTPUT: selected candidate\n",
    "    '''\n",
    "    qt_cand = len(candidates)\n",
    "    \n",
    "    #Deciding the optimal sampling percentage.\n",
    "    sample_perc = optimal_percentage(int(qt_cand))\n",
    "    \n",
    "    #Now let's read the whole sample and get the best candidate out of it\n",
    "    perc_read = float()\n",
    "    qt_read = int()\n",
    "    best_sample = int()\n",
    "    \n",
    "    while(perc_read < sample_perc):\n",
    "        if candidates[qt_read] > best_sample:\n",
    "            best_sample = candidates[qt_read]\n",
    "        \n",
    "        qt_read += 1\n",
    "        perc_read = (qt_read / int(qt_cand)) * 100\n",
    "        \n",
    "    #Let's test the rest of the candidates and get the first one that is better the best sampled one.\n",
    "    #NOTE: in case the best of all candidates was in the sample, we'll have to get the best among the\n",
    "    #remaining candidates, even it being worse than the best sampled one.\n",
    "    best_def = int()\n",
    "    for pos,cand in enumerate(candidates):\n",
    "        #Skipping the sampled ones\n",
    "        if qt_read > pos: #it's not >= because pos starts in 0\n",
    "            continue\n",
    "        \n",
    "        #Found a better than the best sampled.\n",
    "        if cand > best_sample:\n",
    "            return cand\n",
    "        #Found the best so far which still is worse than the best sampled\n",
    "        elif best_def < cand:\n",
    "            best_def = cand\n",
    "    \n",
    "    #Couldn't find someone better that the best sampled. Return the best of the rest\n",
    "    return best_def\n",
    "\n",
    "\n",
    "if __name__ == '__main__':\n",
    "\n",
    "    qt_cand = input('How many candidates do you want to generate? ')\n",
    "    if int(qt_cand) > 1:\n",
    "        #Generating a list of random elements. Let's pick qt_cand numbers in an universe of 1 to (qtc_cand*2).\n",
    "        candidates = sample(list(range(1,int(qt_cand)*2)),int(qt_cand))\n",
    "\n",
    "        #Select the best one using the 37% rule\n",
    "        best_37 = opt_stop_37(candidates)\n",
    "        print(f'The best one selected by the 37% rule is {best_37}')"
   ]
  },
  {
   "cell_type": "markdown",
   "metadata": {},
   "source": [
    "<br>Now let's run a batch of comparisions between the selections made by the 37% rule and a selection of the best candidate that runs through the whole list of candidates. This can be used to validate the table presented in the book."
   ]
  },
  {
   "cell_type": "code",
   "execution_count": 5,
   "metadata": {},
   "outputs": [
    {
     "name": "stdin",
     "output_type": "stream",
     "text": [
      "How many candidates do you want to generate?  100000\n",
      "How many times do you want to compare the 37% selection with a full scan selection?  10000\n"
     ]
    },
    {
     "name": "stdout",
     "output_type": "stream",
     "text": [
      "Out of 10000 selections the 37% rule got 3669 right, missing 6331. Success rate: 36.69\n"
     ]
    }
   ],
   "source": [
    "def full_scan(candidates):\n",
    "    return max(candidates)\n",
    "\n",
    "\n",
    "qt_cand = input('How many candidates do you want to generate? ')\n",
    "qt_comp = input('How many times do you want to compare the 37% selection with a full scan selection? ')\n",
    "\n",
    "qt_right = int()\n",
    "qt_wrong = int()\n",
    "for comp in range(0,int(qt_comp)):\n",
    "    #Generating a list of random elements. Let's pick qt_cand numbers in an universe of 1 to (qtc_cand*2).\n",
    "    candidates = sample(list(range(1,int(qt_cand)*2)),int(qt_cand))\n",
    "    \n",
    "    #Select the best one using the 37% rule and then the really best using the full scan\n",
    "    best_37 = opt_stop_37(candidates)  \n",
    "    best_full = full_scan(candidates)\n",
    "    \n",
    "    if best_37 == best_full:\n",
    "        qt_right += 1\n",
    "    else:\n",
    "        qt_wrong += 1\n",
    "    \n",
    "success_rate = qt_right / int(qt_comp) * 100\n",
    "print(f'Out of {qt_comp} selections the 37% rule got {qt_right} right, missing {qt_wrong}. Success rate: {success_rate}')"
   ]
  },
  {
   "cell_type": "code",
   "execution_count": null,
   "metadata": {},
   "outputs": [],
   "source": []
  }
 ],
 "metadata": {
  "kernelspec": {
   "display_name": "Python 3",
   "language": "python",
   "name": "python3"
  },
  "language_info": {
   "codemirror_mode": {
    "name": "ipython",
    "version": 3
   },
   "file_extension": ".py",
   "mimetype": "text/x-python",
   "name": "python",
   "nbconvert_exporter": "python",
   "pygments_lexer": "ipython3",
   "version": "3.7.5"
  }
 },
 "nbformat": 4,
 "nbformat_minor": 4
}
